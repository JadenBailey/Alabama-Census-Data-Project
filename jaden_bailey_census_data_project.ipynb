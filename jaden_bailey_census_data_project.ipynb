{
  "nbformat": 4,
  "nbformat_minor": 0,
  "metadata": {
    "colab": {
      "name": "jaden_bailey_final_project.ipynb",
      "provenance": [],
      "collapsed_sections": []
    },
    "kernelspec": {
      "name": "python3",
      "display_name": "Python 3"
    }
  },
  "cells": [
    {
      "cell_type": "markdown",
      "metadata": {
        "id": "8w0_fXnOQsFG"
      },
      "source": [
        "# **LING572 Final Project**\n",
        "\n",
        "## Alabama Census Data Project #2\n",
        "\n",
        "The purpose of this notebook is to compare income levels for a variety of levels of education for whites and non-whites in Alabama.\n",
        "\n",
        "The data used for this analysis is provided by the U.S. Census 2000 PUMS (Public Use Microdata Samples) dataset.\n",
        "\n",
        "This notebook was created in Google Colab, so all of the data and scripts were previously saved onto my own Google Drive for importing. A link to the ZIP file is provided below:\n",
        "\n",
        "https://gawron.sdsu.edu/python_for_ss/course_core/book_draft/_static/pums_example.zip"
      ]
    },
    {
      "cell_type": "markdown",
      "metadata": {
        "id": "DFIFrdDbSS3Q"
      },
      "source": [
        "# Importing and Declaration\n",
        "\n",
        "To start off, we need to import the necessary packages in order to save our data through Google Drive. After importing, we can use the data we gathered from each path to declare it to a variable of our choice, which we can use for data analysis."
      ]
    },
    {
      "cell_type": "code",
      "metadata": {
        "colab": {
          "base_uri": "https://localhost:8080/"
        },
        "id": "f4vNwhvftq3l",
        "outputId": "e189c5a2-0b8d-48f2-fb18-3bddfcbe6be7"
      },
      "source": [
        "import importlib.util\n",
        "import os.path\n",
        "from google.colab import drive\n",
        "\n",
        "drive.mount('/content/gdrive')\n",
        "code_dir = '/content/gdrive/My Drive/census/'\n",
        "\n",
        "filename = os.path.join(code_dir, 'read_in_census_data.py')\n",
        "spec = importlib.util.spec_from_file_location('census', filename)\n",
        "\n",
        "census = importlib.util.module_from_spec(spec)\n",
        "spec.loader.exec_module(census)\n",
        "data_dir = code_dir\n",
        "one_percent_data_file = os.path.join(data_dir, 'revisedpums1_alabama_01.txt')\n",
        "\n",
        "data_dictionary = os.path.join(data_dir, '5%_PUMS_record_layout.xls')\n",
        "\n",
        "ci = census.CensusInfo(data_dictionary)\n",
        "df = census.DataFrameWrapper(ci)"
      ],
      "execution_count": null,
      "outputs": [
        {
          "output_type": "stream",
          "text": [
            "Mounted at /content/gdrive\n",
            "Processing 'Housing Unit Record' Sheet\n",
            "\n",
            "Processing 'Person Record' Sheet\n",
            "\n"
          ],
          "name": "stdout"
        }
      ]
    },
    {
      "cell_type": "markdown",
      "metadata": {
        "id": "PKCioPv1TavW"
      },
      "source": [
        "# Census Information\n",
        "\n",
        "We have now declared **ci**, the Census information, and **df**, the DataFrame that holds the data we need. Now, we can look into the Census information and narrow down the data to what we desire.\n",
        "\n",
        "In this case, the only data we need is **Education Level**, **Race**, and **Income Level**."
      ]
    },
    {
      "cell_type": "code",
      "metadata": {
        "colab": {
          "base_uri": "https://localhost:8080/"
        },
        "id": "egJMajwv4fHZ",
        "outputId": "5927b5d2-5f8f-4fa1-c536-9be01e071251"
      },
      "source": [
        "ci.print_var_info('EDUC', ci.person_record)\n",
        "ci.print_var_info('race', ci.person_record)\n",
        "ci.print_var_info ('income', ci.person_record)"
      ],
      "execution_count": null,
      "outputs": [
        {
          "output_type": "stream",
          "text": [
            "Person Record EDUC 1% file {'RT': 'P', 'BEG': 53, 'LEN': 2, 'DESCRIPTION': 'Educational Attainment'}\n",
            "\n",
            "     Educational Attainment\n",
            "     ======================\n",
            "     00  Not in universe (Under 3 years)\n",
            "     01  No schooling completed\n",
            "     02  Nursery school to 4th grade\n",
            "     03  5th grade or 6th grade\n",
            "     04  7th grade or 8th grade\n",
            "     05  9th grade\n",
            "     06  10th grade\n",
            "     07  11th grade\n",
            "     08  12th grade, no diploma\n",
            "     09  High school graduate\n",
            "     10  Some college, but less than 1 year\n",
            "     11  One or more years of college, no degree\n",
            "     12  Associate degree\n",
            "     13  Bachelor's degree\n",
            "     14  Master's degree\n",
            "     15  Professional degree\n",
            "     16  Doctorate degree\n",
            "\n",
            "Person Record race => RACE3 1% file {'RT': 'P', 'BEG': 41, 'LEN': 2, 'DESCRIPTION': 'Race Recode 3'}\n",
            "\n",
            "     Race Recode 3\n",
            "     =============\n",
            "     01  Some other race alone\n",
            "     02  Other Pacific Islander alone\n",
            "     03  Other Pacific Islander; Some other race\n",
            "     04  Samoan alone\n",
            "     05  Guamanian or Chamorro alone\n",
            "     06  Native Hawaiian alone\n",
            "     07  Other Asian alone\n",
            "     08  Other Asian; Some other race\n",
            "     09  Other Asian; Other Pacific Islander\n",
            "     10  Vietnamese alone\n",
            "     11  Korean alone\n",
            "     12  Japanese alone\n",
            "     13  Japanese; Some other race\n",
            "     14  Japanese; Native Hawaiian\n",
            "     15  Filipino alone\n",
            "     16  Filipino; Some other race\n",
            "     17  Filipino; Other Pacific Islander\n",
            "     18  Filipino; Native Hawaiian\n",
            "     19  Filipino; Japanese\n",
            "     20  Chinese alone\n",
            "     21  Chinese; Some other race\n",
            "     22  Chinese; Native Hawaiian\n",
            "     23  Chinese; Other Asian\n",
            "     24  Chinese; Vietamese\n",
            "     25  Chinese; Japanese\n",
            "     26  Chinese; Filipino\n",
            "     27  Chinese; Filipino; Native Hawaiian\n",
            "     28  Asian Indian alone\n",
            "     29  Asian Indian; Some other race\n",
            "     30  Asian Indian; Other Pacific Islander\n",
            "     31  Asian Indian; Other Asian\n",
            "     32  American Indian and Alaska Native alone\n",
            "     33  American Indian and Alaska Native; Some other race\n",
            "     34  American Indian and Alaska Native; Other Asian\n",
            "     35  American Indian and Alaska Native; Filipino\n",
            "     36  American Indian and Alaska Native; Asian Indian\n",
            "     37  Black or African American alone\n",
            "     38  Black or African American; Some other race\n",
            "     39  Black or African American; Other Pacific Islander\n",
            "     40  Black or African American; Other Asian\n",
            "     41  Black or African American; Korean\n",
            "     42  Black or African American; Japanese\n",
            "     43  Black or African American; Filipino\n",
            "     44  Black or African American; Chinese\n",
            "     45  Black or African American; Asian Indian\n",
            "     46  Black or African American; American Indian and Alaska Native\n",
            "     47  White alone\n",
            "     48  White; Some other race\n",
            "     49  White; Other Pacific Islander\n",
            "     50  White; Samoan\n",
            "     51  White; Guamanian or Chamorro\n",
            "     52  White; Natve Hawaiian\n",
            "     53  White; Other Asian\n",
            "     54  White; Other Asian; Some other race\n",
            "     55  White; Vietnamese\n",
            "     56  White; Korean\n",
            "     57  White; Japanese\n",
            "     58  White; Japanese; Hative Hawaiian\n",
            "     59  White; Filipino\n",
            "     60  White; Filipino; Some other race\n",
            "     61  White; Filipino; Native Hawaiian\n",
            "     62  White; Chinese\n",
            "     63  White; Chinese; Native Hawaiian\n",
            "     64  White; Chinese; Filipino; Native Hawaiian\n",
            "     65  White; Asian Indian\n",
            "     66  White; American Indian and Alaska Native\n",
            "     67  White; American Indian and Alaska Native; Some other race\n",
            "     68  White; Black or African American\n",
            "     69  White; Black or African American; Some other race\n",
            "     70  White; Black or African American; American Indian and Alaska Native\n",
            "     71  All other race combinations\n",
            "\n",
            "Person Record income => INCWS 1% file {'RT': 'P', 'BEG': 244, 'LEN': 6, 'DESCRIPTION': 'Wage/Salary Income in 1999'}\n",
            "\n",
            "     Wage/Salary Income in 1999\n",
            "     ==========================\n",
            "     ('000000', ' ')  No/none\n",
            "     ('000001', '174999')  $1 to $174,999\n",
            "     175000  Topcode\n",
            "     175000+  State mean of topcoded values\n",
            "      blank  Not in universe (Under 15 years)\n",
            "\n"
          ],
          "name": "stdout"
        }
      ]
    },
    {
      "cell_type": "markdown",
      "metadata": {
        "id": "4RQsBwWKUUW5"
      },
      "source": [
        "# DataFrame\n",
        "\n",
        "From the output above, we can derive that:\n",
        "\n",
        "*   Education Level can be separated by number\n",
        "*   From the race recode, \"47\" is declared as \"white alone\", which means \"non-white\" is every other number besides \"47\"\n",
        "* Income Level is by USD\n",
        "\n",
        "With this information in mind, we can continue on to working with the DataFrame and filtering the data in order to compare incomes levels by education.\n",
        "\n"
      ]
    },
    {
      "cell_type": "code",
      "metadata": {
        "colab": {
          "base_uri": "https://localhost:8080/"
        },
        "id": "nx8rZ3V4RvjW",
        "outputId": "f7ee2378-f0e6-42c8-dba3-192ae81c365c"
      },
      "source": [
        "df.header"
      ],
      "execution_count": null,
      "outputs": [
        {
          "output_type": "execute_result",
          "data": {
            "text/plain": [
              "['serial_no', 'race', 'education', 'income', 'gender', 'age', 'relationship']"
            ]
          },
          "metadata": {
            "tags": []
          },
          "execution_count": 89
        }
      ]
    },
    {
      "cell_type": "code",
      "metadata": {
        "id": "bQt4kfINSE4U"
      },
      "source": [
        "df.save_frame('alabama_pums_extract.csv', header=True)"
      ],
      "execution_count": null,
      "outputs": []
    },
    {
      "cell_type": "code",
      "metadata": {
        "id": "ZwWhv_0iSMTz"
      },
      "source": [
        "import pandas as pd\n",
        "import numpy as np\n",
        "\n",
        "dt_dict = {'serial_no':object, 'race':object, 'gender':object, 'relationship':object}\n",
        "p_df = pd.read_csv('alabama_pums_extract.csv', dtype=dt_dict)"
      ],
      "execution_count": null,
      "outputs": []
    },
    {
      "cell_type": "code",
      "metadata": {
        "id": "CkSJTxE2TlD-"
      },
      "source": [
        "p_df.to_csv('alabama_pums_extract3.csv', index=False)"
      ],
      "execution_count": null,
      "outputs": []
    },
    {
      "cell_type": "code",
      "metadata": {
        "colab": {
          "base_uri": "https://localhost:8080/",
          "height": 419
        },
        "id": "m8JLIWTiVLla",
        "outputId": "1eecf11d-0ed9-4f6e-f4cf-a36b8ca47f3f"
      },
      "source": [
        "p_df"
      ],
      "execution_count": null,
      "outputs": [
        {
          "output_type": "execute_result",
          "data": {
            "text/html": [
              "<div>\n",
              "<style scoped>\n",
              "    .dataframe tbody tr th:only-of-type {\n",
              "        vertical-align: middle;\n",
              "    }\n",
              "\n",
              "    .dataframe tbody tr th {\n",
              "        vertical-align: top;\n",
              "    }\n",
              "\n",
              "    .dataframe thead th {\n",
              "        text-align: right;\n",
              "    }\n",
              "</style>\n",
              "<table border=\"1\" class=\"dataframe\">\n",
              "  <thead>\n",
              "    <tr style=\"text-align: right;\">\n",
              "      <th></th>\n",
              "      <th>serial_no</th>\n",
              "      <th>race</th>\n",
              "      <th>education</th>\n",
              "      <th>income</th>\n",
              "      <th>gender</th>\n",
              "      <th>age</th>\n",
              "      <th>relationship</th>\n",
              "    </tr>\n",
              "  </thead>\n",
              "  <tbody>\n",
              "    <tr>\n",
              "      <th>0</th>\n",
              "      <td>0000117</td>\n",
              "      <td>47</td>\n",
              "      <td>12</td>\n",
              "      <td>47300.0</td>\n",
              "      <td>1</td>\n",
              "      <td>31</td>\n",
              "      <td>01</td>\n",
              "    </tr>\n",
              "    <tr>\n",
              "      <th>1</th>\n",
              "      <td>0000117</td>\n",
              "      <td>47</td>\n",
              "      <td>12</td>\n",
              "      <td>24300.0</td>\n",
              "      <td>2</td>\n",
              "      <td>25</td>\n",
              "      <td>02</td>\n",
              "    </tr>\n",
              "    <tr>\n",
              "      <th>2</th>\n",
              "      <td>0000117</td>\n",
              "      <td>47</td>\n",
              "      <td>0</td>\n",
              "      <td>NaN</td>\n",
              "      <td>1</td>\n",
              "      <td>0</td>\n",
              "      <td>03</td>\n",
              "    </tr>\n",
              "    <tr>\n",
              "      <th>3</th>\n",
              "      <td>0000127</td>\n",
              "      <td>47</td>\n",
              "      <td>5</td>\n",
              "      <td>0.0</td>\n",
              "      <td>1</td>\n",
              "      <td>22</td>\n",
              "      <td>01</td>\n",
              "    </tr>\n",
              "    <tr>\n",
              "      <th>4</th>\n",
              "      <td>0000127</td>\n",
              "      <td>47</td>\n",
              "      <td>10</td>\n",
              "      <td>22000.0</td>\n",
              "      <td>2</td>\n",
              "      <td>35</td>\n",
              "      <td>02</td>\n",
              "    </tr>\n",
              "    <tr>\n",
              "      <th>...</th>\n",
              "      <td>...</td>\n",
              "      <td>...</td>\n",
              "      <td>...</td>\n",
              "      <td>...</td>\n",
              "      <td>...</td>\n",
              "      <td>...</td>\n",
              "      <td>...</td>\n",
              "    </tr>\n",
              "    <tr>\n",
              "      <th>44482</th>\n",
              "      <td>0999820</td>\n",
              "      <td>37</td>\n",
              "      <td>1</td>\n",
              "      <td>NaN</td>\n",
              "      <td>1</td>\n",
              "      <td>5</td>\n",
              "      <td>08</td>\n",
              "    </tr>\n",
              "    <tr>\n",
              "      <th>44483</th>\n",
              "      <td>0999820</td>\n",
              "      <td>37</td>\n",
              "      <td>7</td>\n",
              "      <td>0.0</td>\n",
              "      <td>1</td>\n",
              "      <td>42</td>\n",
              "      <td>13</td>\n",
              "    </tr>\n",
              "    <tr>\n",
              "      <th>44484</th>\n",
              "      <td>0999826</td>\n",
              "      <td>37</td>\n",
              "      <td>8</td>\n",
              "      <td>0.0</td>\n",
              "      <td>2</td>\n",
              "      <td>29</td>\n",
              "      <td>01</td>\n",
              "    </tr>\n",
              "    <tr>\n",
              "      <th>44485</th>\n",
              "      <td>0999826</td>\n",
              "      <td>37</td>\n",
              "      <td>5</td>\n",
              "      <td>NaN</td>\n",
              "      <td>1</td>\n",
              "      <td>14</td>\n",
              "      <td>03</td>\n",
              "    </tr>\n",
              "    <tr>\n",
              "      <th>44486</th>\n",
              "      <td>0999826</td>\n",
              "      <td>37</td>\n",
              "      <td>1</td>\n",
              "      <td>NaN</td>\n",
              "      <td>1</td>\n",
              "      <td>8</td>\n",
              "      <td>03</td>\n",
              "    </tr>\n",
              "  </tbody>\n",
              "</table>\n",
              "<p>44487 rows × 7 columns</p>\n",
              "</div>"
            ],
            "text/plain": [
              "      serial_no race  education   income gender  age relationship\n",
              "0       0000117   47         12  47300.0      1   31           01\n",
              "1       0000117   47         12  24300.0      2   25           02\n",
              "2       0000117   47          0      NaN      1    0           03\n",
              "3       0000127   47          5      0.0      1   22           01\n",
              "4       0000127   47         10  22000.0      2   35           02\n",
              "...         ...  ...        ...      ...    ...  ...          ...\n",
              "44482   0999820   37          1      NaN      1    5           08\n",
              "44483   0999820   37          7      0.0      1   42           13\n",
              "44484   0999826   37          8      0.0      2   29           01\n",
              "44485   0999826   37          5      NaN      1   14           03\n",
              "44486   0999826   37          1      NaN      1    8           03\n",
              "\n",
              "[44487 rows x 7 columns]"
            ]
          },
          "metadata": {
            "tags": []
          },
          "execution_count": 11
        }
      ]
    },
    {
      "cell_type": "markdown",
      "metadata": {
        "id": "yeG8xYeLWFwK"
      },
      "source": [
        "Here we have a readable table of the data. However, some columns will be unecessary for this task. So we will need to isolate the race, education, and income columns and make bins for graphing.\n",
        "\n",
        "First, it would be ideal to add an indicator of which rows are \"white\" or \"non-white.\""
      ]
    },
    {
      "cell_type": "code",
      "metadata": {
        "id": "23V-4JkDWaSZ"
      },
      "source": [
        "p_df['white_only'] = p_df['race'].map(lambda x: x == '47')"
      ],
      "execution_count": null,
      "outputs": []
    },
    {
      "cell_type": "code",
      "metadata": {
        "colab": {
          "base_uri": "https://localhost:8080/",
          "height": 419
        },
        "id": "WKPA0I5b8EY1",
        "outputId": "66b7b1b3-9746-4801-dad3-63cb124b6be6"
      },
      "source": [
        "p_df"
      ],
      "execution_count": null,
      "outputs": [
        {
          "output_type": "execute_result",
          "data": {
            "text/html": [
              "<div>\n",
              "<style scoped>\n",
              "    .dataframe tbody tr th:only-of-type {\n",
              "        vertical-align: middle;\n",
              "    }\n",
              "\n",
              "    .dataframe tbody tr th {\n",
              "        vertical-align: top;\n",
              "    }\n",
              "\n",
              "    .dataframe thead th {\n",
              "        text-align: right;\n",
              "    }\n",
              "</style>\n",
              "<table border=\"1\" class=\"dataframe\">\n",
              "  <thead>\n",
              "    <tr style=\"text-align: right;\">\n",
              "      <th></th>\n",
              "      <th>serial_no</th>\n",
              "      <th>race</th>\n",
              "      <th>education</th>\n",
              "      <th>income</th>\n",
              "      <th>gender</th>\n",
              "      <th>age</th>\n",
              "      <th>relationship</th>\n",
              "      <th>white_only</th>\n",
              "    </tr>\n",
              "  </thead>\n",
              "  <tbody>\n",
              "    <tr>\n",
              "      <th>0</th>\n",
              "      <td>0000117</td>\n",
              "      <td>47</td>\n",
              "      <td>12</td>\n",
              "      <td>47300.0</td>\n",
              "      <td>1</td>\n",
              "      <td>31</td>\n",
              "      <td>01</td>\n",
              "      <td>True</td>\n",
              "    </tr>\n",
              "    <tr>\n",
              "      <th>1</th>\n",
              "      <td>0000117</td>\n",
              "      <td>47</td>\n",
              "      <td>12</td>\n",
              "      <td>24300.0</td>\n",
              "      <td>2</td>\n",
              "      <td>25</td>\n",
              "      <td>02</td>\n",
              "      <td>True</td>\n",
              "    </tr>\n",
              "    <tr>\n",
              "      <th>2</th>\n",
              "      <td>0000117</td>\n",
              "      <td>47</td>\n",
              "      <td>0</td>\n",
              "      <td>NaN</td>\n",
              "      <td>1</td>\n",
              "      <td>0</td>\n",
              "      <td>03</td>\n",
              "      <td>True</td>\n",
              "    </tr>\n",
              "    <tr>\n",
              "      <th>3</th>\n",
              "      <td>0000127</td>\n",
              "      <td>47</td>\n",
              "      <td>5</td>\n",
              "      <td>0.0</td>\n",
              "      <td>1</td>\n",
              "      <td>22</td>\n",
              "      <td>01</td>\n",
              "      <td>True</td>\n",
              "    </tr>\n",
              "    <tr>\n",
              "      <th>4</th>\n",
              "      <td>0000127</td>\n",
              "      <td>47</td>\n",
              "      <td>10</td>\n",
              "      <td>22000.0</td>\n",
              "      <td>2</td>\n",
              "      <td>35</td>\n",
              "      <td>02</td>\n",
              "      <td>True</td>\n",
              "    </tr>\n",
              "    <tr>\n",
              "      <th>...</th>\n",
              "      <td>...</td>\n",
              "      <td>...</td>\n",
              "      <td>...</td>\n",
              "      <td>...</td>\n",
              "      <td>...</td>\n",
              "      <td>...</td>\n",
              "      <td>...</td>\n",
              "      <td>...</td>\n",
              "    </tr>\n",
              "    <tr>\n",
              "      <th>44482</th>\n",
              "      <td>0999820</td>\n",
              "      <td>37</td>\n",
              "      <td>1</td>\n",
              "      <td>NaN</td>\n",
              "      <td>1</td>\n",
              "      <td>5</td>\n",
              "      <td>08</td>\n",
              "      <td>False</td>\n",
              "    </tr>\n",
              "    <tr>\n",
              "      <th>44483</th>\n",
              "      <td>0999820</td>\n",
              "      <td>37</td>\n",
              "      <td>7</td>\n",
              "      <td>0.0</td>\n",
              "      <td>1</td>\n",
              "      <td>42</td>\n",
              "      <td>13</td>\n",
              "      <td>False</td>\n",
              "    </tr>\n",
              "    <tr>\n",
              "      <th>44484</th>\n",
              "      <td>0999826</td>\n",
              "      <td>37</td>\n",
              "      <td>8</td>\n",
              "      <td>0.0</td>\n",
              "      <td>2</td>\n",
              "      <td>29</td>\n",
              "      <td>01</td>\n",
              "      <td>False</td>\n",
              "    </tr>\n",
              "    <tr>\n",
              "      <th>44485</th>\n",
              "      <td>0999826</td>\n",
              "      <td>37</td>\n",
              "      <td>5</td>\n",
              "      <td>NaN</td>\n",
              "      <td>1</td>\n",
              "      <td>14</td>\n",
              "      <td>03</td>\n",
              "      <td>False</td>\n",
              "    </tr>\n",
              "    <tr>\n",
              "      <th>44486</th>\n",
              "      <td>0999826</td>\n",
              "      <td>37</td>\n",
              "      <td>1</td>\n",
              "      <td>NaN</td>\n",
              "      <td>1</td>\n",
              "      <td>8</td>\n",
              "      <td>03</td>\n",
              "      <td>False</td>\n",
              "    </tr>\n",
              "  </tbody>\n",
              "</table>\n",
              "<p>44487 rows × 8 columns</p>\n",
              "</div>"
            ],
            "text/plain": [
              "      serial_no race  education   income gender  age relationship  white_only\n",
              "0       0000117   47         12  47300.0      1   31           01        True\n",
              "1       0000117   47         12  24300.0      2   25           02        True\n",
              "2       0000117   47          0      NaN      1    0           03        True\n",
              "3       0000127   47          5      0.0      1   22           01        True\n",
              "4       0000127   47         10  22000.0      2   35           02        True\n",
              "...         ...  ...        ...      ...    ...  ...          ...         ...\n",
              "44482   0999820   37          1      NaN      1    5           08       False\n",
              "44483   0999820   37          7      0.0      1   42           13       False\n",
              "44484   0999826   37          8      0.0      2   29           01       False\n",
              "44485   0999826   37          5      NaN      1   14           03       False\n",
              "44486   0999826   37          1      NaN      1    8           03       False\n",
              "\n",
              "[44487 rows x 8 columns]"
            ]
          },
          "metadata": {
            "tags": []
          },
          "execution_count": 15
        }
      ]
    },
    {
      "cell_type": "markdown",
      "metadata": {
        "id": "mOu84NRDW4iQ"
      },
      "source": [
        "# Filtering Data\n",
        "\n",
        "Now that we have added a \"white-only\" column containing boolean values indicating whether the row is white, or has a race code of 47, we can narrow down our DataFrame.\n",
        "\n",
        "It would also help if the education level was shown by the name of the degree obtained instead of its code number.\n",
        "\n",
        "The following declaration will be used:\n",
        "\n",
        "AA = Associate Degree = 12\n",
        "\n",
        "BA = Bachelor's Degree = 13\n",
        "\n",
        "HD = Professional/Doctorate Degree = 15+\n",
        "\n",
        "HS = High School Degree = 9-11\n",
        "\n",
        "MA = Master's Degree = 14\n",
        "\n",
        "ND = No Degree = 8 or less\n",
        "\n",
        "This information was taken from the Census information we gathered earlier about Education Levels. Now, we can make the following function:"
      ]
    },
    {
      "cell_type": "code",
      "metadata": {
        "colab": {
          "base_uri": "https://localhost:8080/"
        },
        "id": "LZk3pvTH9UT2",
        "outputId": "4cb1bdfe-e3be-464d-a26a-402d764f2ed3"
      },
      "source": [
        "def education (x):\n",
        "    \n",
        "    if 9 <= x <= 11:\n",
        "        return 'HS'\n",
        "    elif x == 12:\n",
        "        return 'AA'\n",
        "    elif x == 13:\n",
        "        return 'BA'\n",
        "    elif x == 14:\n",
        "        return 'MA'\n",
        "    elif x > 14:\n",
        "        return 'HD'\n",
        "    else:\n",
        "        return 'ND'\n",
        "p_df_inc = p_df[p_df['income']>0]\n",
        "p_df_inc['degrees'] = p_df_inc['education'].map(education)\n",
        "p_df_inc['white_only'] = p_df['race'].map(lambda x: x == '47')\n",
        "p_df_inc2 = p_df_inc.loc[:,['degrees','income','white_only']]"
      ],
      "execution_count": null,
      "outputs": [
        {
          "output_type": "stream",
          "text": [
            "/usr/local/lib/python3.6/dist-packages/ipykernel_launcher.py:16: SettingWithCopyWarning: \n",
            "A value is trying to be set on a copy of a slice from a DataFrame.\n",
            "Try using .loc[row_indexer,col_indexer] = value instead\n",
            "\n",
            "See the caveats in the documentation: https://pandas.pydata.org/pandas-docs/stable/user_guide/indexing.html#returning-a-view-versus-a-copy\n",
            "  app.launch_new_instance()\n",
            "/usr/local/lib/python3.6/dist-packages/ipykernel_launcher.py:17: SettingWithCopyWarning: \n",
            "A value is trying to be set on a copy of a slice from a DataFrame.\n",
            "Try using .loc[row_indexer,col_indexer] = value instead\n",
            "\n",
            "See the caveats in the documentation: https://pandas.pydata.org/pandas-docs/stable/user_guide/indexing.html#returning-a-view-versus-a-copy\n"
          ],
          "name": "stderr"
        }
      ]
    },
    {
      "cell_type": "code",
      "metadata": {
        "colab": {
          "base_uri": "https://localhost:8080/",
          "height": 419
        },
        "id": "x9hciRoP9rJ-",
        "outputId": "b8c471d3-e48f-4232-ecdb-6afb42d4336e"
      },
      "source": [
        "p_df_inc2"
      ],
      "execution_count": null,
      "outputs": [
        {
          "output_type": "execute_result",
          "data": {
            "text/html": [
              "<div>\n",
              "<style scoped>\n",
              "    .dataframe tbody tr th:only-of-type {\n",
              "        vertical-align: middle;\n",
              "    }\n",
              "\n",
              "    .dataframe tbody tr th {\n",
              "        vertical-align: top;\n",
              "    }\n",
              "\n",
              "    .dataframe thead th {\n",
              "        text-align: right;\n",
              "    }\n",
              "</style>\n",
              "<table border=\"1\" class=\"dataframe\">\n",
              "  <thead>\n",
              "    <tr style=\"text-align: right;\">\n",
              "      <th></th>\n",
              "      <th>degrees</th>\n",
              "      <th>income</th>\n",
              "      <th>white_only</th>\n",
              "    </tr>\n",
              "  </thead>\n",
              "  <tbody>\n",
              "    <tr>\n",
              "      <th>0</th>\n",
              "      <td>AA</td>\n",
              "      <td>47300.0</td>\n",
              "      <td>True</td>\n",
              "    </tr>\n",
              "    <tr>\n",
              "      <th>1</th>\n",
              "      <td>AA</td>\n",
              "      <td>24300.0</td>\n",
              "      <td>True</td>\n",
              "    </tr>\n",
              "    <tr>\n",
              "      <th>4</th>\n",
              "      <td>HS</td>\n",
              "      <td>22000.0</td>\n",
              "      <td>True</td>\n",
              "    </tr>\n",
              "    <tr>\n",
              "      <th>6</th>\n",
              "      <td>ND</td>\n",
              "      <td>5000.0</td>\n",
              "      <td>True</td>\n",
              "    </tr>\n",
              "    <tr>\n",
              "      <th>7</th>\n",
              "      <td>BA</td>\n",
              "      <td>13000.0</td>\n",
              "      <td>True</td>\n",
              "    </tr>\n",
              "    <tr>\n",
              "      <th>...</th>\n",
              "      <td>...</td>\n",
              "      <td>...</td>\n",
              "      <td>...</td>\n",
              "    </tr>\n",
              "    <tr>\n",
              "      <th>44473</th>\n",
              "      <td>ND</td>\n",
              "      <td>500.0</td>\n",
              "      <td>True</td>\n",
              "    </tr>\n",
              "    <tr>\n",
              "      <th>44476</th>\n",
              "      <td>HS</td>\n",
              "      <td>2000.0</td>\n",
              "      <td>False</td>\n",
              "    </tr>\n",
              "    <tr>\n",
              "      <th>44477</th>\n",
              "      <td>HS</td>\n",
              "      <td>12000.0</td>\n",
              "      <td>False</td>\n",
              "    </tr>\n",
              "    <tr>\n",
              "      <th>44480</th>\n",
              "      <td>HS</td>\n",
              "      <td>30000.0</td>\n",
              "      <td>True</td>\n",
              "    </tr>\n",
              "    <tr>\n",
              "      <th>44481</th>\n",
              "      <td>ND</td>\n",
              "      <td>300.0</td>\n",
              "      <td>False</td>\n",
              "    </tr>\n",
              "  </tbody>\n",
              "</table>\n",
              "<p>20712 rows × 3 columns</p>\n",
              "</div>"
            ],
            "text/plain": [
              "      degrees   income  white_only\n",
              "0          AA  47300.0        True\n",
              "1          AA  24300.0        True\n",
              "4          HS  22000.0        True\n",
              "6          ND   5000.0        True\n",
              "7          BA  13000.0        True\n",
              "...       ...      ...         ...\n",
              "44473      ND    500.0        True\n",
              "44476      HS   2000.0       False\n",
              "44477      HS  12000.0       False\n",
              "44480      HS  30000.0        True\n",
              "44481      ND    300.0       False\n",
              "\n",
              "[20712 rows x 3 columns]"
            ]
          },
          "metadata": {
            "tags": []
          },
          "execution_count": 99
        }
      ]
    },
    {
      "cell_type": "markdown",
      "metadata": {
        "id": "-04Ty8zK_FQU"
      },
      "source": [
        "The table above shows all data from the original DataFrame that is legitimate and useful, meaning that the income is more than 0, the degrees show as their abbreviated names, and the \"white-only\" column still reveals who is white or not.\n",
        "\n",
        "We have all of the necessary information to separate the data into two parts: white and non-white."
      ]
    },
    {
      "cell_type": "code",
      "metadata": {
        "id": "cx04ilrb-C1V"
      },
      "source": [
        "white = p_df_inc2[p_df_inc2['white_only'] == True]\n",
        "nonwhite = p_df_inc2[p_df_inc2['white_only'] == False]"
      ],
      "execution_count": null,
      "outputs": []
    },
    {
      "cell_type": "code",
      "metadata": {
        "colab": {
          "base_uri": "https://localhost:8080/",
          "height": 419
        },
        "id": "Pehj47ktDMJF",
        "outputId": "e0d2f024-f0de-40de-d95d-c2f45d4ef874"
      },
      "source": [
        "white"
      ],
      "execution_count": null,
      "outputs": [
        {
          "output_type": "execute_result",
          "data": {
            "text/html": [
              "<div>\n",
              "<style scoped>\n",
              "    .dataframe tbody tr th:only-of-type {\n",
              "        vertical-align: middle;\n",
              "    }\n",
              "\n",
              "    .dataframe tbody tr th {\n",
              "        vertical-align: top;\n",
              "    }\n",
              "\n",
              "    .dataframe thead th {\n",
              "        text-align: right;\n",
              "    }\n",
              "</style>\n",
              "<table border=\"1\" class=\"dataframe\">\n",
              "  <thead>\n",
              "    <tr style=\"text-align: right;\">\n",
              "      <th></th>\n",
              "      <th>degrees</th>\n",
              "      <th>income</th>\n",
              "      <th>white_only</th>\n",
              "    </tr>\n",
              "  </thead>\n",
              "  <tbody>\n",
              "    <tr>\n",
              "      <th>0</th>\n",
              "      <td>AA</td>\n",
              "      <td>47300.0</td>\n",
              "      <td>True</td>\n",
              "    </tr>\n",
              "    <tr>\n",
              "      <th>1</th>\n",
              "      <td>AA</td>\n",
              "      <td>24300.0</td>\n",
              "      <td>True</td>\n",
              "    </tr>\n",
              "    <tr>\n",
              "      <th>4</th>\n",
              "      <td>HS</td>\n",
              "      <td>22000.0</td>\n",
              "      <td>True</td>\n",
              "    </tr>\n",
              "    <tr>\n",
              "      <th>6</th>\n",
              "      <td>ND</td>\n",
              "      <td>5000.0</td>\n",
              "      <td>True</td>\n",
              "    </tr>\n",
              "    <tr>\n",
              "      <th>7</th>\n",
              "      <td>BA</td>\n",
              "      <td>13000.0</td>\n",
              "      <td>True</td>\n",
              "    </tr>\n",
              "    <tr>\n",
              "      <th>...</th>\n",
              "      <td>...</td>\n",
              "      <td>...</td>\n",
              "      <td>...</td>\n",
              "    </tr>\n",
              "    <tr>\n",
              "      <th>44467</th>\n",
              "      <td>HS</td>\n",
              "      <td>15900.0</td>\n",
              "      <td>True</td>\n",
              "    </tr>\n",
              "    <tr>\n",
              "      <th>44469</th>\n",
              "      <td>ND</td>\n",
              "      <td>12000.0</td>\n",
              "      <td>True</td>\n",
              "    </tr>\n",
              "    <tr>\n",
              "      <th>44470</th>\n",
              "      <td>ND</td>\n",
              "      <td>1400.0</td>\n",
              "      <td>True</td>\n",
              "    </tr>\n",
              "    <tr>\n",
              "      <th>44473</th>\n",
              "      <td>ND</td>\n",
              "      <td>500.0</td>\n",
              "      <td>True</td>\n",
              "    </tr>\n",
              "    <tr>\n",
              "      <th>44480</th>\n",
              "      <td>HS</td>\n",
              "      <td>30000.0</td>\n",
              "      <td>True</td>\n",
              "    </tr>\n",
              "  </tbody>\n",
              "</table>\n",
              "<p>15483 rows × 3 columns</p>\n",
              "</div>"
            ],
            "text/plain": [
              "      degrees   income  white_only\n",
              "0          AA  47300.0        True\n",
              "1          AA  24300.0        True\n",
              "4          HS  22000.0        True\n",
              "6          ND   5000.0        True\n",
              "7          BA  13000.0        True\n",
              "...       ...      ...         ...\n",
              "44467      HS  15900.0        True\n",
              "44469      ND  12000.0        True\n",
              "44470      ND   1400.0        True\n",
              "44473      ND    500.0        True\n",
              "44480      HS  30000.0        True\n",
              "\n",
              "[15483 rows x 3 columns]"
            ]
          },
          "metadata": {
            "tags": []
          },
          "execution_count": 55
        }
      ]
    },
    {
      "cell_type": "code",
      "metadata": {
        "colab": {
          "base_uri": "https://localhost:8080/",
          "height": 419
        },
        "id": "11ltUhhlDMuc",
        "outputId": "77141c67-643e-4128-d79f-92fb5a29356b"
      },
      "source": [
        "nonwhite"
      ],
      "execution_count": null,
      "outputs": [
        {
          "output_type": "execute_result",
          "data": {
            "text/html": [
              "<div>\n",
              "<style scoped>\n",
              "    .dataframe tbody tr th:only-of-type {\n",
              "        vertical-align: middle;\n",
              "    }\n",
              "\n",
              "    .dataframe tbody tr th {\n",
              "        vertical-align: top;\n",
              "    }\n",
              "\n",
              "    .dataframe thead th {\n",
              "        text-align: right;\n",
              "    }\n",
              "</style>\n",
              "<table border=\"1\" class=\"dataframe\">\n",
              "  <thead>\n",
              "    <tr style=\"text-align: right;\">\n",
              "      <th></th>\n",
              "      <th>degrees</th>\n",
              "      <th>income</th>\n",
              "      <th>white_only</th>\n",
              "    </tr>\n",
              "  </thead>\n",
              "  <tbody>\n",
              "    <tr>\n",
              "      <th>11</th>\n",
              "      <td>MA</td>\n",
              "      <td>32000.0</td>\n",
              "      <td>False</td>\n",
              "    </tr>\n",
              "    <tr>\n",
              "      <th>18</th>\n",
              "      <td>BA</td>\n",
              "      <td>24000.0</td>\n",
              "      <td>False</td>\n",
              "    </tr>\n",
              "    <tr>\n",
              "      <th>28</th>\n",
              "      <td>HS</td>\n",
              "      <td>750.0</td>\n",
              "      <td>False</td>\n",
              "    </tr>\n",
              "    <tr>\n",
              "      <th>46</th>\n",
              "      <td>ND</td>\n",
              "      <td>1200.0</td>\n",
              "      <td>False</td>\n",
              "    </tr>\n",
              "    <tr>\n",
              "      <th>47</th>\n",
              "      <td>BA</td>\n",
              "      <td>30000.0</td>\n",
              "      <td>False</td>\n",
              "    </tr>\n",
              "    <tr>\n",
              "      <th>...</th>\n",
              "      <td>...</td>\n",
              "      <td>...</td>\n",
              "      <td>...</td>\n",
              "    </tr>\n",
              "    <tr>\n",
              "      <th>44457</th>\n",
              "      <td>BA</td>\n",
              "      <td>14000.0</td>\n",
              "      <td>False</td>\n",
              "    </tr>\n",
              "    <tr>\n",
              "      <th>44459</th>\n",
              "      <td>HS</td>\n",
              "      <td>33000.0</td>\n",
              "      <td>False</td>\n",
              "    </tr>\n",
              "    <tr>\n",
              "      <th>44476</th>\n",
              "      <td>HS</td>\n",
              "      <td>2000.0</td>\n",
              "      <td>False</td>\n",
              "    </tr>\n",
              "    <tr>\n",
              "      <th>44477</th>\n",
              "      <td>HS</td>\n",
              "      <td>12000.0</td>\n",
              "      <td>False</td>\n",
              "    </tr>\n",
              "    <tr>\n",
              "      <th>44481</th>\n",
              "      <td>ND</td>\n",
              "      <td>300.0</td>\n",
              "      <td>False</td>\n",
              "    </tr>\n",
              "  </tbody>\n",
              "</table>\n",
              "<p>5229 rows × 3 columns</p>\n",
              "</div>"
            ],
            "text/plain": [
              "      degrees   income  white_only\n",
              "11         MA  32000.0       False\n",
              "18         BA  24000.0       False\n",
              "28         HS    750.0       False\n",
              "46         ND   1200.0       False\n",
              "47         BA  30000.0       False\n",
              "...       ...      ...         ...\n",
              "44457      BA  14000.0       False\n",
              "44459      HS  33000.0       False\n",
              "44476      HS   2000.0       False\n",
              "44477      HS  12000.0       False\n",
              "44481      ND    300.0       False\n",
              "\n",
              "[5229 rows x 3 columns]"
            ]
          },
          "metadata": {
            "tags": []
          },
          "execution_count": 56
        }
      ]
    },
    {
      "cell_type": "code",
      "metadata": {
        "colab": {
          "base_uri": "https://localhost:8080/",
          "height": 266
        },
        "id": "Hw9KddxtF94f",
        "outputId": "8fe9c994-b55b-485f-90d1-eaf7ccefcfc7"
      },
      "source": [
        "whitegroup = white.groupby(['degrees']).mean()\n",
        "whitegroup"
      ],
      "execution_count": null,
      "outputs": [
        {
          "output_type": "execute_result",
          "data": {
            "text/html": [
              "<div>\n",
              "<style scoped>\n",
              "    .dataframe tbody tr th:only-of-type {\n",
              "        vertical-align: middle;\n",
              "    }\n",
              "\n",
              "    .dataframe tbody tr th {\n",
              "        vertical-align: top;\n",
              "    }\n",
              "\n",
              "    .dataframe thead th {\n",
              "        text-align: right;\n",
              "    }\n",
              "</style>\n",
              "<table border=\"1\" class=\"dataframe\">\n",
              "  <thead>\n",
              "    <tr style=\"text-align: right;\">\n",
              "      <th></th>\n",
              "      <th>income</th>\n",
              "      <th>white_only</th>\n",
              "    </tr>\n",
              "    <tr>\n",
              "      <th>degrees</th>\n",
              "      <th></th>\n",
              "      <th></th>\n",
              "    </tr>\n",
              "  </thead>\n",
              "  <tbody>\n",
              "    <tr>\n",
              "      <th>AA</th>\n",
              "      <td>30578.720238</td>\n",
              "      <td>True</td>\n",
              "    </tr>\n",
              "    <tr>\n",
              "      <th>BA</th>\n",
              "      <td>44145.258260</td>\n",
              "      <td>True</td>\n",
              "    </tr>\n",
              "    <tr>\n",
              "      <th>HD</th>\n",
              "      <td>90588.130841</td>\n",
              "      <td>True</td>\n",
              "    </tr>\n",
              "    <tr>\n",
              "      <th>HS</th>\n",
              "      <td>24749.638879</td>\n",
              "      <td>True</td>\n",
              "    </tr>\n",
              "    <tr>\n",
              "      <th>MA</th>\n",
              "      <td>45636.859122</td>\n",
              "      <td>True</td>\n",
              "    </tr>\n",
              "    <tr>\n",
              "      <th>ND</th>\n",
              "      <td>18170.306513</td>\n",
              "      <td>True</td>\n",
              "    </tr>\n",
              "  </tbody>\n",
              "</table>\n",
              "</div>"
            ],
            "text/plain": [
              "               income  white_only\n",
              "degrees                          \n",
              "AA       30578.720238        True\n",
              "BA       44145.258260        True\n",
              "HD       90588.130841        True\n",
              "HS       24749.638879        True\n",
              "MA       45636.859122        True\n",
              "ND       18170.306513        True"
            ]
          },
          "metadata": {
            "tags": []
          },
          "execution_count": 63
        }
      ]
    },
    {
      "cell_type": "code",
      "metadata": {
        "colab": {
          "base_uri": "https://localhost:8080/",
          "height": 266
        },
        "id": "rqqj8aKVJOPq",
        "outputId": "abe74f94-1902-4165-8539-486362e0fbde"
      },
      "source": [
        "nonwhitegroup = nonwhite.groupby(['degrees']).mean()\n",
        "nonwhitegroup"
      ],
      "execution_count": null,
      "outputs": [
        {
          "output_type": "execute_result",
          "data": {
            "text/html": [
              "<div>\n",
              "<style scoped>\n",
              "    .dataframe tbody tr th:only-of-type {\n",
              "        vertical-align: middle;\n",
              "    }\n",
              "\n",
              "    .dataframe tbody tr th {\n",
              "        vertical-align: top;\n",
              "    }\n",
              "\n",
              "    .dataframe thead th {\n",
              "        text-align: right;\n",
              "    }\n",
              "</style>\n",
              "<table border=\"1\" class=\"dataframe\">\n",
              "  <thead>\n",
              "    <tr style=\"text-align: right;\">\n",
              "      <th></th>\n",
              "      <th>income</th>\n",
              "      <th>white_only</th>\n",
              "    </tr>\n",
              "    <tr>\n",
              "      <th>degrees</th>\n",
              "      <th></th>\n",
              "      <th></th>\n",
              "    </tr>\n",
              "  </thead>\n",
              "  <tbody>\n",
              "    <tr>\n",
              "      <th>AA</th>\n",
              "      <td>25227.164634</td>\n",
              "      <td>False</td>\n",
              "    </tr>\n",
              "    <tr>\n",
              "      <th>BA</th>\n",
              "      <td>31958.826185</td>\n",
              "      <td>False</td>\n",
              "    </tr>\n",
              "    <tr>\n",
              "      <th>HD</th>\n",
              "      <td>54027.586207</td>\n",
              "      <td>False</td>\n",
              "    </tr>\n",
              "    <tr>\n",
              "      <th>HS</th>\n",
              "      <td>18767.240446</td>\n",
              "      <td>False</td>\n",
              "    </tr>\n",
              "    <tr>\n",
              "      <th>MA</th>\n",
              "      <td>36457.185629</td>\n",
              "      <td>False</td>\n",
              "    </tr>\n",
              "    <tr>\n",
              "      <th>ND</th>\n",
              "      <td>14793.487461</td>\n",
              "      <td>False</td>\n",
              "    </tr>\n",
              "  </tbody>\n",
              "</table>\n",
              "</div>"
            ],
            "text/plain": [
              "               income  white_only\n",
              "degrees                          \n",
              "AA       25227.164634       False\n",
              "BA       31958.826185       False\n",
              "HD       54027.586207       False\n",
              "HS       18767.240446       False\n",
              "MA       36457.185629       False\n",
              "ND       14793.487461       False"
            ]
          },
          "metadata": {
            "tags": []
          },
          "execution_count": 77
        }
      ]
    },
    {
      "cell_type": "markdown",
      "metadata": {
        "id": "KnjMWgN1bBHq"
      },
      "source": [
        "By using aggregation, the mean income in both tables is grouped by degree obtained. This will be sufficient information to graph a bar chart of each group."
      ]
    },
    {
      "cell_type": "markdown",
      "metadata": {
        "id": "SYdpZO2bbeHa"
      },
      "source": [
        "# Graphing & Conclusion"
      ]
    },
    {
      "cell_type": "code",
      "metadata": {
        "colab": {
          "base_uri": "https://localhost:8080/",
          "height": 295
        },
        "id": "GoXScQ1RJWsJ",
        "outputId": "cf89420e-7c3e-4600-c025-7ec6d2409a59"
      },
      "source": [
        "import matplotlib.pyplot as plt\n",
        "\n",
        "labels = ['AA', 'BA', 'HD', 'HS', 'MA', 'ND']\n",
        "values = list(whitegroup['income'].values)\n",
        "values1 = list(nonwhitegroup['income'].values)\n",
        "\n",
        "plt.title('Alabama Mean Income Levels by Education')\n",
        "\n",
        "plt.bar(labels, values, label='Whites')\n",
        "plt.bar(labels, values1, label='Non-whites')\n",
        "\n",
        "plt.xlabel('Education Level')\n",
        "plt.ylabel('Mean Income Level (USD)')\n",
        "\n",
        "plt.legend()\n",
        "\n",
        "plt.show()"
      ],
      "execution_count": null,
      "outputs": [
        {
          "output_type": "display_data",
          "data": {
            "image/png": "[encoded data removed]",
            "text/plain": [
              "<Figure size 432x288 with 1 Axes>"
            ]
          },
          "metadata": {
            "tags": [],
            "needs_background": "light"
          }
        }
      ]
    },
    {
      "cell_type": "markdown",
      "metadata": {
        "id": "du7ErcanbuEP"
      },
      "source": [
        "Based on the bar chart above, we can conclude that:\n",
        "\n",
        "* Whites on average have a higher income level than non-whites, no matter the education level\n",
        "* Whites with a Professional/Doctorate degree have the highest income level overall\n",
        "* Non-whites with no degree have the lowest income level overall\n",
        "* Whites and non-whites with a Professional/Doctorate degree have the largest gap in income level\n",
        "* Whites and non-whites with no degree have the smallest gap in income level\n",
        "* Whites may receive more opportunities than non-whites based on education alone\n",
        "* As education level rises, the level of income rises with it"
      ]
    },
    {
      "cell_type": "code",
      "metadata": {
        "id": "d334x18Wdnp4"
      },
      "source": [
        ""
      ],
      "execution_count": null,
      "outputs": []
    }
  ]
}